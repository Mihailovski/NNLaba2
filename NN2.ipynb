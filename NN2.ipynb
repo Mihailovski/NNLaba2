{
  "nbformat": 4,
  "nbformat_minor": 0,
  "metadata": {
    "colab": {
      "provenance": [],
      "collapsed_sections": []
    },
    "kernelspec": {
      "name": "python3",
      "display_name": "Python 3"
    },
    "language_info": {
      "name": "python"
    }
  },
  "cells": [
    {
      "cell_type": "code",
      "execution_count": null,
      "metadata": {
        "id": "h4S85K_14Eiu"
      },
      "outputs": [],
      "source": [
        "import numpy as np\n",
        "import random\n",
        "import matplotlib.pyplot as plt\n",
        "from sklearn.metrics import accuracy_score\n",
        "from PIL import Image"
      ]
    },
    {
      "cell_type": "code",
      "source": [
        "from google.colab import drive\n",
        "drive.mount('/content/drive')"
      ],
      "metadata": {
        "colab": {
          "base_uri": "https://localhost:8080/"
        },
        "id": "dJ5FDqUl4SC6",
        "outputId": "1264cd6b-d967-413d-8ae8-2cdb03aec3a5"
      },
      "execution_count": null,
      "outputs": [
        {
          "output_type": "stream",
          "name": "stdout",
          "text": [
            "Drive already mounted at /content/drive; to attempt to forcibly remount, call drive.mount(\"/content/drive\", force_remount=True).\n"
          ]
        }
      ]
    },
    {
      "cell_type": "code",
      "source": [
        "def GetImg(path):\n",
        "  test_img = Image.open(path)\n",
        "  test_img = test_img.resize((16, 16))\n",
        "  plt.subplot(5, 5, i)\n",
        "  plt.imshow(test_img, cmap = \"gray\")\n",
        "  test_img = test_img.convert('1')\n",
        "  test_x = np.array(test_img, np.float32)\n",
        "  test_x = test_x.reshape([-1, 256])\n",
        "  return test_x"
      ],
      "metadata": {
        "id": "3OVIeXPg4cJm"
      },
      "execution_count": null,
      "outputs": []
    },
    {
      "cell_type": "code",
      "source": [
        "def reverse(array):\n",
        "  revArr = []\n",
        "  for x in array:\n",
        "    revX = []\n",
        "    for xi in x:\n",
        "      if (xi == 1.0):\n",
        "        revX.append(0)\n",
        "      else:\n",
        "        revX.append(1)\n",
        "    revArr.append(revX)\n",
        "  return revArr"
      ],
      "metadata": {
        "id": "7YzO7FS-zhi1"
      },
      "execution_count": null,
      "outputs": []
    },
    {
      "cell_type": "code",
      "source": [
        "x_train = []\n",
        "y_train = []\n",
        "  \n",
        "path = '/content/drive/My Drive/Walk/'\n",
        "for i in range(1, 10):\n",
        "  x_train.append(GetImg(path + str(i) +'.jpg')[0])\n",
        "  y_train.append(1)"
      ],
      "metadata": {
        "colab": {
          "base_uri": "https://localhost:8080/",
          "height": 133
        },
        "id": "QUmPKUs84fMw",
        "outputId": "1ea85297-b3a5-471d-de1b-1f4fc6b023f8"
      },
      "execution_count": null,
      "outputs": [
        {
          "output_type": "display_data",
          "data": {
            "text/plain": [
              "<Figure size 432x288 with 9 Axes>"
            ],
            "image/png": "[encoded data removed]"
          },
          "metadata": {
            "needs_background": "light"
          }
        }
      ]
    },
    {
      "cell_type": "code",
      "source": [
        "path = '/content/drive/My Drive/Stand/'\n",
        "for i in range(11, 20):\n",
        "  x_train.append(GetImg(path + str(i) +'.jpg')[0])\n",
        "  y_train.append(0)"
      ],
      "metadata": {
        "colab": {
          "base_uri": "https://localhost:8080/",
          "height": 133
        },
        "id": "SMX4cNuX0H1A",
        "outputId": "82806fd4-9aec-45c3-c635-c431ba34fa75"
      },
      "execution_count": null,
      "outputs": [
        {
          "output_type": "display_data",
          "data": {
            "text/plain": [
              "<Figure size 432x288 with 9 Axes>"
            ],
            "image/png": "[encoded data removed]"
          },
          "metadata": {
            "needs_background": "light"
          }
        }
      ]
    },
    {
      "cell_type": "code",
      "source": [
        "x_train = reverse(x_train)"
      ],
      "metadata": {
        "id": "JGdBtLQ20LP_"
      },
      "execution_count": null,
      "outputs": []
    },
    {
      "cell_type": "code",
      "source": [
        "def step_func(x):\n",
        "  if(x > 0):\n",
        "    return 1\n",
        "  else:\n",
        "    return 0"
      ],
      "metadata": {
        "id": "w_NdcBIPCXGS"
      },
      "execution_count": null,
      "outputs": []
    },
    {
      "cell_type": "code",
      "source": [
        "def Sigmoid(s):\n",
        "  return 1 / (1 + np.exp(-s))\n",
        "\n",
        "def SigmDer(s):\n",
        "  return Sigmoid(s) * (1 - Sigmoid(s))\n",
        "\n",
        "def ErrAcc(pred_y, tst_y, eps):\n",
        "  hit = 0\n",
        "  for i in range(len(tst_y)):\n",
        "    if(np.abs(pred_y[i] - tst_y[i]) < eps): hit = hit + 1\n",
        "  return hit / len(tst_y)\n",
        "\n",
        "def ErrLoss(pred_y, tst_y):\n",
        "  loss = 0\n",
        "  for i in range(len(tst_y)):\n",
        "    loss += np.square(pred_y[i] - tst_y[i])\n",
        "  loss = np.sqrt(loss) / len(tst_y)\n",
        "  return loss"
      ],
      "metadata": {
        "id": "ZxgxwpDjwUvJ"
      },
      "execution_count": null,
      "outputs": []
    },
    {
      "cell_type": "code",
      "source": [
        "class Neuron:\n",
        "  def __init__(self, weightsCount, number = None):\n",
        "    if number is None: \n",
        "      self.weights = []\n",
        "      for i in range(weightsCount):\n",
        "        self.weights.append(np.random.normal() * 3)\n",
        "      self.bias = np.random.normal() * 3\n",
        "    else:\n",
        "      self.weights = [] \n",
        "      for i in range(weightsCount):\n",
        "        self.weights.append(number)\n",
        "      self.bias = number\n",
        "\n",
        "  def GetSum(self, x):\n",
        "    sum = self.bias\n",
        "    for i in range(len(self.weights)):\n",
        "      sum += self.weights[i] * x[i]\n",
        "    return sum\n",
        "\n",
        "  def Feed(self, x):\n",
        "    return Sigmoid(self.GetSum(x))\n",
        "\n",
        "class Network:\n",
        "  def __init__(self, x_count):\n",
        "    self.NeuronsL1 = []\n",
        "    self.NeuronsL2 = []\n",
        "    self.NeuronsL3 = Neuron(15)\n",
        "    for i in range(30):\n",
        "      self.NeuronsL1.append(Neuron(x_count))\n",
        "    for i in range(15):\n",
        "      self.NeuronsL2.append(Neuron(30))\n",
        "\n",
        "  def Predict(self, data):\n",
        "    y_pred = []\n",
        "    for x in data:\n",
        "      res1 = []\n",
        "      for n in self.NeuronsL1:\n",
        "        res1.append(n.Feed(x))\n",
        "      res2 = []\n",
        "      for n in self.NeuronsL2:\n",
        "        res2.append(n.Feed(res1))\n",
        "      y_pred.append(self.NeuronsL3.Feed(res2))\n",
        "    return y_pred\n",
        "\n",
        "  def TrainGrad(self, data, y_trues, speed, epochs):\n",
        "    errs = []\n",
        "    epchs = []\n",
        "    for epoch in range(epochs):\n",
        "      for x, y_true in zip(data, y_trues):\n",
        "        self.GradIteration(x, y_true, speed)\n",
        "      if epoch % 10 == 0:\n",
        "        y_preds = self.Predict(data)\n",
        "        err = ErrLoss(y_trues, y_preds)\n",
        "        acc = ErrAcc(y_trues, y_preds, 0.1)\n",
        "        epchs.append(epoch)\n",
        "        errs.append(err)\n",
        "        print(\"Epoch %d err: %.3f\" % (epoch, err))\n",
        "        print(\"Epoch %d acc: %.3f\" % (epoch, acc))\n",
        "    return epchs, errs\n",
        "\n",
        "  def GradIteration(self, x, y_true, speed):\n",
        "    res1 = []\n",
        "    for n in self.NeuronsL1:\n",
        "      res1.append(n.Feed(x))\n",
        "    res2 = []\n",
        "    for n in self.NeuronsL2:\n",
        "      res2.append(n.Feed(res1))\n",
        "    out = self.NeuronsL3.Feed(res2)\n",
        "    delta = out - y_true\n",
        "    grad = delta * SigmDer(out)\n",
        "    for i in range(len(res2)):\n",
        "      self.NeuronsL3.weights[i] -= speed * grad * res2[i]\n",
        "    self.NeuronsL3.bias -= speed * grad\n",
        "    grad2 = []\n",
        "    for i in range(len(res2)):\n",
        "      grad2.append(grad * self.NeuronsL3.weights[i] * SigmDer(res2[i]))\n",
        "    grad2_bias = grad * self.NeuronsL3.bias * SigmDer(1)\n",
        "    for i in range(len(self.NeuronsL2)):\n",
        "      for j in range(len(res1)):\n",
        "        self.NeuronsL2[i].weights[j] -= speed * grad2[i] * res1[j]\n",
        "      self.NeuronsL2[i].bias -= speed * grad2_bias\n",
        "    grad1 = []\n",
        "    for i in range(len(res1)):\n",
        "      grad_sum = 0\n",
        "      for j in range(len(self.NeuronsL2)):\n",
        "        grad_sum += grad2[j] * self.NeuronsL2[j].weights[i] * SigmDer(res1[i])\n",
        "      grad1.append(grad_sum)\n",
        "    grad1_bias = 0\n",
        "    for j in range(len(self.NeuronsL2)):\n",
        "      grad1_bias += grad2[j] * self.NeuronsL2[j].bias * SigmDer(1)\n",
        "    for i in range(len(self.NeuronsL1)):\n",
        "      for j in range(len(x)):\n",
        "        self.NeuronsL1[i].weights[j] -= speed * grad1[i] * x[j]\n",
        "      self.NeuronsL1[i].bias -= speed * grad1_bias"
      ],
      "metadata": {
        "id": "jdn9KVf89KWs"
      },
      "execution_count": null,
      "outputs": []
    },
    {
      "cell_type": "code",
      "source": [
        "network = Network(256)\n",
        "epochs, errors = network.TrainGrad(x_train, y_train, 1, 100)"
      ],
      "metadata": {
        "colab": {
          "base_uri": "https://localhost:8080/"
        },
        "id": "I1Q-QMHHwoWy",
        "outputId": "0a9712b0-2cbb-473c-e239-38838ca2162e"
      },
      "execution_count": null,
      "outputs": [
        {
          "output_type": "stream",
          "name": "stdout",
          "text": [
            "Epoch 0 err: 0.150\n",
            "Epoch 0 acc: 0.500\n",
            "Epoch 10 err: 0.002\n",
            "Epoch 10 acc: 1.000\n",
            "Epoch 20 err: 0.001\n",
            "Epoch 20 acc: 1.000\n",
            "Epoch 30 err: 0.001\n",
            "Epoch 30 acc: 1.000\n",
            "Epoch 40 err: 0.001\n",
            "Epoch 40 acc: 1.000\n",
            "Epoch 50 err: 0.001\n",
            "Epoch 50 acc: 1.000\n",
            "Epoch 60 err: 0.001\n",
            "Epoch 60 acc: 1.000\n",
            "Epoch 70 err: 0.001\n",
            "Epoch 70 acc: 1.000\n",
            "Epoch 80 err: 0.000\n",
            "Epoch 80 acc: 1.000\n",
            "Epoch 90 err: 0.000\n",
            "Epoch 90 acc: 1.000\n"
          ]
        }
      ]
    },
    {
      "cell_type": "code",
      "source": [
        "plt.plot(epochs, errors)\n",
        "plt.show()"
      ],
      "metadata": {
        "colab": {
          "base_uri": "https://localhost:8080/",
          "height": 265
        },
        "id": "n49G_FkKwsep",
        "outputId": "5debf29c-d300-4fc3-e2ea-5b4eb1560697"
      },
      "execution_count": null,
      "outputs": [
        {
          "output_type": "display_data",
          "data": {
            "text/plain": [
              "<Figure size 432x288 with 1 Axes>"
            ],
            "image/png": "[encoded data removed]"
          },
          "metadata": {
            "needs_background": "light"
          }
        }
      ]
    },
    {
      "cell_type": "code",
      "source": [
        "x_test = []\n",
        "y_test = []\n",
        "path = '/content/drive/My Drive/Stand/'\n",
        "for i in range(18, 20):\n",
        "  x_test.append(GetImg(path + str(i) +'.jpg')[0])\n",
        "  y_test.append(0)"
      ],
      "metadata": {
        "colab": {
          "base_uri": "https://localhost:8080/",
          "height": 88
        },
        "id": "SdSIN_np-tFX",
        "outputId": "40b348ed-e80f-45ed-8ca5-2bfd0662d5ea"
      },
      "execution_count": null,
      "outputs": [
        {
          "output_type": "display_data",
          "data": {
            "text/plain": [
              "<Figure size 432x288 with 2 Axes>"
            ],
            "image/png": "[encoded data removed]"
          },
          "metadata": {
            "needs_background": "light"
          }
        }
      ]
    },
    {
      "cell_type": "code",
      "source": [
        "path = '/content/drive/My Drive/Walk/'\n",
        "for i in range(8, 10):\n",
        "  x_test.append(GetImg(path + str(i) +'.jpg')[0])\n",
        "  y_test.append(1)"
      ],
      "metadata": {
        "colab": {
          "base_uri": "https://localhost:8080/",
          "height": 88
        },
        "id": "fwABluUx2E81",
        "outputId": "f7ec2892-87b9-4fc1-9283-531d702b3c9c"
      },
      "execution_count": null,
      "outputs": [
        {
          "output_type": "display_data",
          "data": {
            "text/plain": [
              "<Figure size 432x288 with 2 Axes>"
            ],
            "image/png": "[encoded data removed]"
          },
          "metadata": {
            "needs_background": "light"
          }
        }
      ]
    },
    {
      "cell_type": "code",
      "source": [
        "x_test = reverse(x_test)"
      ],
      "metadata": {
        "id": "-wWppXIE2J2F"
      },
      "execution_count": null,
      "outputs": []
    },
    {
      "cell_type": "code",
      "source": [
        "def get_res(y):\n",
        "  if y > 0.5:\n",
        "    return 1\n",
        "  return 0"
      ],
      "metadata": {
        "id": "d3xj5MzZ_X4-"
      },
      "execution_count": null,
      "outputs": []
    },
    {
      "cell_type": "code",
      "source": [
        "y_pred = network.Predict(x_test)\n",
        "y_pred_binary = []\n",
        "for i in range(len(y_pred)):\n",
        "  y_pred_binary.append(get_res(y_pred[i])) \n",
        "acc = ErrAcc(y_test, y_pred_binary, 0.1)\n",
        "print(\"acc:\" + str(acc))\n",
        "ress = ['Стоит', 'Идет']\n",
        "plt.figure(figsize=(15,5))\n",
        "for i in range(4):\n",
        "  plt.subplot(1, 4, i + 1)\n",
        "  plt.title(ress[get_res(y_pred[i])])\n",
        "  img = np.reshape((x_test[i]), [16, 16])\n",
        "  plt.imshow(img, cmap=\"gray\")"
      ],
      "metadata": {
        "colab": {
          "base_uri": "https://localhost:8080/",
          "height": 263
        },
        "id": "_olUS-F3yLwr",
        "outputId": "90eef655-2cdb-4199-840e-e2cd457a27c3"
      },
      "execution_count": null,
      "outputs": [
        {
          "output_type": "stream",
          "name": "stdout",
          "text": [
            "acc:1.0\n"
          ]
        },
        {
          "output_type": "display_data",
          "data": {
            "text/plain": [
              "<Figure size 1080x360 with 4 Axes>"
            ],
            "image/png": "[encoded data removed]"
          },
          "metadata": {
            "needs_background": "light"
          }
        }
      ]
    }
  ]
}